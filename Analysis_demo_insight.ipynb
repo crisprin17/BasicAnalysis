{
 "cells": [
  {
   "cell_type": "code",
   "execution_count": 1,
   "metadata": {},
   "outputs": [],
   "source": [
    "%matplotlib notebook\n",
    "import numpy as np\n",
    "import matplotlib.pyplot as plt\n",
    "import matplotlib.axes as ax\n",
    "import pandas as pd\n",
    "import csv\n",
    "from math import sqrt\n",
    "from math import log\n",
    "import scipy.optimize as opt\n",
    "import scipy.special as sp\n",
    "\n",
    "\n",
    "pd.options.mode.chained_assignment = None"
   ]
  },
  {
   "cell_type": "markdown",
   "metadata": {},
   "source": [
    "# What are we testing?"
   ]
  },
  {
   "cell_type": "markdown",
   "metadata": {},
   "source": [
    "The theorethical model I am testing predict that the events comes from \n",
    "the center of the Sun, so we will narrow our searches by looking at the events that only <mark style=\"font-weight:bold\">comes from the Sun direction</mark>.\n",
    "\n",
    "Furthermore, the events we are looking for have a special features, they are the only one that can go through matter without being stopped, so we will narrow our searches even more by looking at events that <mark style=\"font-weight:bold\">comes from the bottom of the Earth and go up</mark>."
   ]
  },
  {
   "cell_type": "markdown",
   "metadata": {},
   "source": [
    "<img src=\"Desktop/thesisPhd/figures/SunAnn_earth.png\">"
   ]
  },
  {
   "cell_type": "markdown",
   "metadata": {},
   "source": [
    "This is how <span style=\"font-weight:bold\">0.0005 s</span> of data looks like in our detector.\n",
    "\n",
    "In 24h there are 10 billions events."
   ]
  },
  {
   "cell_type": "markdown",
   "metadata": {},
   "source": [
    "<img src=\"Desktop/thesisPhd/figures/Example_eventdisplay.png\">"
   ]
  },
  {
   "cell_type": "markdown",
   "metadata": {},
   "source": [
    "# How do we find upward-going events?\n"
   ]
  },
  {
   "cell_type": "markdown",
   "metadata": {},
   "source": [
    "We use Simulation of Cosmic ray tracks to simulate the downward going hypothesis and Dark Matter tracks to simulate the upward going hypothesis.\n"
   ]
  },
  {
   "cell_type": "markdown",
   "metadata": {},
   "source": [
    "First we define a set of functions that we will use in the analysis.\n",
    "\n",
    "We start with choosing a view, that could either be XZ or YZ"
   ]
  },
  {
   "cell_type": "code",
   "execution_count": 2,
   "metadata": {},
   "outputs": [],
   "source": [
    "def Choose_view(dataframe, View_XZ):\n",
    "    \"\"\"\n",
    "    dataframe        :   type<array_like>\n",
    "    View_XZ          :   type<bool>\n",
    "    \n",
    "    Chose dataframe and if you want XZ view\n",
    "    and returns a dataframe with only the variable we will use .\n",
    "    \n",
    "    \"\"\"\n",
    "    if View_XZ is True:\n",
    "        View = dataframe[['Energy','X','Y','Z','HitTime']][dataframe['View'] == 0]\n",
    "        return View\n",
    "    else:\n",
    "        View = dataframe[['Energy','X','Y','Z','HitTime']][dataframe['View'] == 1]\n",
    "        return View"
   ]
  },
  {
   "cell_type": "markdown",
   "metadata": {},
   "source": [
    "To study the behavior of upward going vs downward going tracks, we costruct a 2D plot with a indipendent and dependent variables for each hit in the tracks (each row in the dataframe).\n",
    "\n",
    "\n",
    "Starting from that, we look at the behaviour of two variables to gain some insight of our data. The indipendent variable is \n",
    "<span style=\"background-color: #FFFF00\">observed time</span> (the time registered by the detector when the events happens), the dependent variable is the <span style=\"background-color: #FFFF00\"> expected time </span> (distance that the particles travel divided by the speed of light)\n"
   ]
  },
  {
   "cell_type": "markdown",
   "metadata": {},
   "source": [
    "Start by taking the hit that happened at the lowest and highest point in the XZ or YZ view (corresponding to the initial and the final point in the list or dataframe column)."
   ]
  },
  {
   "cell_type": "code",
   "execution_count": 3,
   "metadata": {},
   "outputs": [],
   "source": [
    "def Get_variables(dataframe):\n",
    "    \"\"\"\n",
    "    dataframe           :   type<pd.dataframe>  \n",
    "    \n",
    "    For a dataframe and returns the value of the first and last point in X, Y, Z direction.\n",
    "\n",
    "    \"\"\"\n",
    "    #Start and End point correspond to the first and last point of the \n",
    "    # dataframe's column\n",
    "    x_start  = dataframe['X'].iloc[0]\n",
    "    x_end    = dataframe['X'].iloc[-1]\n",
    "    y_start  = dataframe['Y'].iloc[0]\n",
    "    y_end    = dataframe['Y'].iloc[-1]\n",
    "    z_start  = dataframe['Z'].iloc[0]\n",
    "    z_end    = dataframe['Z'].iloc[-1]\n",
    "    \n",
    "    return x_start, x_end, y_start, y_end, z_start, z_end "
   ]
  },
  {
   "cell_type": "markdown",
   "metadata": {},
   "source": [
    "The assumption we are making is:\n",
    "\n",
    "<mark style=\"font-weight:bold\" style=\"color:red\">All the tracks are moving upward.</mark>"
   ]
  },
  {
   "cell_type": "markdown",
   "metadata": {},
   "source": [
    "In the 2D plot we are constructing the tracks will behave in opposite way. (Have opposite slope) \n",
    "\n"
   ]
  },
  {
   "cell_type": "markdown",
   "metadata": {},
   "source": [
    "<img src=\"Desktop/Python/Expected_vs_Observed_time.png\">"
   ]
  },
  {
   "cell_type": "markdown",
   "metadata": {},
   "source": [
    "With this information we can calculate the expectated time:"
   ]
  },
  {
   "cell_type": "code",
   "execution_count": 4,
   "metadata": {},
   "outputs": [],
   "source": [
    "def Calculate_expectation(dataframe, x_start, x_end, y_start, y_end, z_start, z_end):\n",
    "    \"\"\"\n",
    "    dataframe           :   type<pd.dataframe>\n",
    "    x_start, x_end      :   type<float>   \n",
    "    \n",
    "    Takes the dataframe and the x, y, z start and end points and\n",
    "    returns a new column with \n",
    "    the expected time for each point\n",
    "    \n",
    "    \"\"\"  \n",
    "    distance           = sqrt( ( x_start - x_end )**2 + ( y_start - y_end )**2 + ( z_start - z_end)**2 )\n",
    "    TimeOfFlight       = distance / 29.97 #light speed in cm/ns\n",
    "    TimeOfFlight_ratio = TimeOfFlight / ( x_end - x_start )\n",
    "    #add a column where for each point calculate the expected time \n",
    "    #based on the x (or y) position of the point\n",
    "    dataframe['Expected time'] = dataframe['X'].apply( lambda x : TimeOfFlight_ratio * (x - x_start) )\n",
    "    \n",
    "    return dataframe['Expected time']"
   ]
  },
  {
   "cell_type": "markdown",
   "metadata": {},
   "source": [
    "The error on each point depends on it's energy value, through a function studied in a previuos work. A different function will be applied in case we are using simulation or real data."
   ]
  },
  {
   "cell_type": "code",
   "execution_count": 5,
   "metadata": {},
   "outputs": [],
   "source": [
    "def getErr(Energy, Simulation):\n",
    "    \"\"\"\n",
    "    dataframe        :   type<array_like>\n",
    "    Simulation       :   type<bool>\n",
    "    \n",
    "    Takes the Energy value and if the data are simulated.\n",
    "    Returns the error associated with each point\n",
    "    \n",
    "    \"\"\"\n",
    "    if Simulation is True:\n",
    "        return 163551 / (1847.39 + pow( Energy, 2.10082)) + 8.65312\n",
    "    else:\n",
    "        return 165143 / (1882.9 + pow( Energy, 2.11447)) + 10.4321"
   ]
  },
  {
   "cell_type": "markdown",
   "metadata": {},
   "source": [
    "Each expected time's point will have an error associated to it, depending on the energy of the point.\n",
    "The more energetic it is, the more light it releases, the better the identification and smaller the error."
   ]
  },
  {
   "cell_type": "code",
   "execution_count": 6,
   "metadata": {},
   "outputs": [],
   "source": [
    "def Calculate_expectation_error(dataframe, Simulation):\n",
    "    \"\"\"\n",
    "    dataframe          :   type<pd.dataframe>\n",
    "    Simulation         :   type<bool>    \n",
    "    \n",
    "    Takes a dataframe and if it is Simulated data\n",
    "    returns a list with the errors associated to each point in the dataframe.\n",
    "    \n",
    "    \"\"\"\n",
    "    #add a column where for each point calculate the expected time \n",
    "    #based on the Energy of the point\n",
    "    dataframe['Expected time error'] = dataframe['Energy'].apply(lambda x : getErr(x,Simulation) )\n",
    "    #pass it to a list \n",
    "    errors_list =  dataframe['Expected time error'].tolist()\n",
    "    \n",
    "    return errors_list"
   ]
  },
  {
   "cell_type": "markdown",
   "metadata": {},
   "source": [
    "# Now that we have made the 2D plot, do the events agree with the assumption?"
   ]
  },
  {
   "cell_type": "markdown",
   "metadata": {},
   "source": [
    "There is a linear correlation between the indipendent variable (The observed time) and the dependent variable (The expected time) in this case, so we'll try to fit the point with a linear predictor function.\n",
    "\n",
    "In this case, we'll have to also take into account that each point has a specific error associated, so we will use the scipy curve_fit option to find the best fit line to a collection of points in 2D"
   ]
  },
  {
   "cell_type": "markdown",
   "metadata": {},
   "source": [
    "The linear predictor function:"
   ]
  },
  {
   "cell_type": "code",
   "execution_count": 7,
   "metadata": {},
   "outputs": [],
   "source": [
    "def func(x, slope, intercept):\n",
    "    \"\"\"\n",
    "    x           :   type<list> or type<array>\n",
    "    slope       :   type<float>\n",
    "    intercept   :   type<float>\n",
    "    Takes an array and a value for the slope and intercept\n",
    "    and return a line\n",
    "    \"\"\"\n",
    "    return slope * x + intercept"
   ]
  },
  {
   "cell_type": "markdown",
   "metadata": {},
   "source": [
    "First we have to pass a guessed value for the slope and the intercept.\n",
    "In first approximation the slope and the intercept can be calculated using the first and the last point in the plot"
   ]
  },
  {
   "cell_type": "code",
   "execution_count": 8,
   "metadata": {},
   "outputs": [],
   "source": [
    "def guess_initial_parameters(xs, ys):\n",
    "    \"\"\"\n",
    "    xs          :   type<list> or type<array>\n",
    "    ys          :   type<list> or type<array>\n",
    "    \n",
    "    Takes two array and returns a first approx value for the slope and intercept\n",
    "    \"\"\"\n",
    "    ##guess the slope\n",
    "    slope = (ys[-1]-ys[0])/(xs[-1]-xs[0])\n",
    "    alpha = 1/slope\n",
    "    ##guess the intercept\n",
    "    intercept = np.mean([ys[-1] - xs[-1]/alpha, ys[0] - xs[0]/alpha])\n",
    "    \n",
    "    print('The initial guess for the slope is: '+ str(slope) )\n",
    "    \n",
    "    return [alpha, intercept]"
   ]
  },
  {
   "cell_type": "markdown",
   "metadata": {},
   "source": [
    "We are now ready to plot the variables and fit them."
   ]
  },
  {
   "cell_type": "code",
   "execution_count": 9,
   "metadata": {},
   "outputs": [],
   "source": [
    "def Make_Plot(dataframe, name , error_list):\n",
    "    \"\"\"\n",
    "    dataframe          :   type<pd.dataframe>\n",
    "    name               :   type<string>    \n",
    "    error_list         :   type<list>\n",
    "    \n",
    "    Takes a dataframe, a name for the plot, and the error associated with the expectation\n",
    "    returns a plot of observed vs expected time fitted by a weighted line.\n",
    "    \n",
    "    \"\"\"\n",
    "    fig = plt.figure()\n",
    "    ax = fig.add_subplot(111)\n",
    "    \n",
    "    #indipendent variable\n",
    "    x = dataframe['HitTime']\n",
    "    #dependent variable\n",
    "    y = dataframe['Expected time']\n",
    "   \n",
    "    #initial guess for slope and intercept parameters  \n",
    "    slope, intercept = guess_initial_parameters(dataframe['HitTime'].tolist(), dataframe['Expected time'].tolist())\n",
    "    #fit the 2D point with a linear function\n",
    "    popt, pcov = opt.curve_fit(func, x, y, p0=(slope, intercept), sigma=error_list)\n",
    "    #use the estimated parameters to best fit line\n",
    "    line = popt[0] * dataframe['HitTime'] + popt[1]\n",
    "\n",
    "    plt.title(\"Observed vs Expected time \" + name)\n",
    "    plt.xlabel(\"T_obs (ns)\")\n",
    "    plt.ylabel(\"T_exp (ns)\")\n",
    "    \n",
    "    #plot the x and y variables plus the error\n",
    "    plt.errorbar(dataframe['HitTime'], dataframe['Expected time'], yerr = error_list, ecolor = 'blue', fmt = 'o', marker = 's', mfc = 'green', mec = 'green', ms = 3, mew = 3)\n",
    "     #plot the best fit line\n",
    "    plt.plot(dataframe['HitTime'], line, label = \"fit\", color = 'red');\n",
    " \n",
    "    print('The slope value for the '+ name +' hypothesis is = '+ str(popt[0]) )\n",
    "    \n",
    "    return plt.show()"
   ]
  },
  {
   "cell_type": "markdown",
   "metadata": {},
   "source": [
    "# Some more testing..."
   ]
  },
  {
   "cell_type": "markdown",
   "metadata": {},
   "source": [
    "We can define the Chi2 calculation with two fixed slope +1 and -1 (representing upward and downward going) to get an idea about the probability that the track is an upward going one:"
   ]
  },
  {
   "cell_type": "code",
   "execution_count": 10,
   "metadata": {},
   "outputs": [],
   "source": [
    "def Chi2_def(x, y, ey):\n",
    "    \"\"\"\n",
    "    x           :   type<list> or type<array>\n",
    "    y           :   type<list> or type<array>\n",
    "    ey          :   type<list> or type<array>\n",
    "    \n",
    "    Takes x and y array and the error associated with the expectation\n",
    "    returns the Chi2/ndof and probability associated with the upward or downward going hypothesis\n",
    "    \n",
    "    \"\"\"\n",
    "    ## Before going ahead, make sure we have sensible arrays\n",
    "    assert(len(x) == len(y))\n",
    "    assert(len(x) == len(ey))\n",
    "    assert(len(ey) >= 2)\n",
    "\n",
    "    ## Define the sums needed for the calculation:\n",
    "    s   = 0.0\n",
    "    sx  = 0.0\n",
    "    sxx = 0.0\n",
    "    sy  = 0.0\n",
    "    sxy = 0.0\n",
    "    syy = 0.0\n",
    "    n = len(x)\n",
    "    \n",
    "   ## Loop over data to calculate relevant sums:\n",
    "    for i in range(n) :\n",
    "        e    = float(ey[i]) \n",
    "        s   += 1.0 / (e**2)\n",
    "        sx  += float(x[i]) / (e**2)\n",
    "        sy  += float(y[i]) / (e**2)\n",
    "\n",
    "    up_intercept = (sy - sx) / s\n",
    "    dn_intercept = (sy + sx) / s\n",
    "    \n",
    "    ## So now you have data points and a fit/theory. How to get the fit quality?\n",
    "    ## The answer is to calculate the Chi2 and Ndof, and from them get their\n",
    "    ## probability using a function \n",
    "    Chi2_calc_up = 0.0\n",
    "    Chi2_calc_dn = 0.0\n",
    "    for i in range(n) : \n",
    "        e = float(ey[i])\n",
    "        fit_value_up = up_intercept + x[i]\n",
    "        fit_value_dn = dn_intercept - x[i]\n",
    "        Chi2_calc_up += ((y[i] - fit_value_up) / e)**2.0\n",
    "        Chi2_calc_dn += ((y[i] - fit_value_dn) / e)**2.0\n",
    "  \n",
    "    ## Number of variables (slope and intercept)\n",
    "    Nvar = 2       \n",
    "    ## Number of degrees of freedom\n",
    "    Ndof_calc = n - Nvar   \n",
    "\n",
    "    ## From Chi2 and Ndof, one can calculate the probability of obtaining this\n",
    "    ## or something worse (i.e. higher Chi2).Regularized upper incomplete gamma function\n",
    "    ## The returned probability corresponds to 1-P(a,x), \n",
    "    ## which denotes the probability that an observed Chi-squared exceeds the value chi2 by chance, \n",
    "    #even for a correct model\n",
    "\n",
    "    Prob_calc_up = sp.gammaincc( (Ndof_calc) / 2.0, Chi2_calc_up / 2.0)\n",
    "    Prob_calc_dn = sp.gammaincc( (Ndof_calc) / 2.0, Chi2_calc_dn / 2.0)\n",
    "     \n",
    "    if (Prob_calc_up < 1e-30):\n",
    "        Prob_calc_up = 1e-30\n",
    "    if (Prob_calc_dn < 1e-30):\n",
    "        Prob_calc_dn = 1e-30\n",
    "        \n",
    "    print ('The goodness of the fit for the upward-going hypothesis = ' + str( Chi2_calc_up / (n-2) ) )\n",
    "    print ('The goodness of the fit for the down-going hypothesis = ' + str( Chi2_calc_dn / (n-2) ) )\n",
    "    \n",
    "    return Prob_calc_up, Chi2_calc_up / (Ndof_calc), Prob_calc_dn, Chi2_calc_dn / (Ndof_calc)"
   ]
  },
  {
   "cell_type": "markdown",
   "metadata": {},
   "source": [
    "The likelihood helps us to respond the question: how likely is the data, given the parameters?\n",
    "\n",
    "With the probability of upward or downward going hypothesis\n",
    "we can construct a Likelihood ratio. \n",
    "Likelihood ratios provide a numerical measure of the effect of a result on probability, \n",
    "and we take the logarithm of its for simplicity"
   ]
  },
  {
   "cell_type": "code",
   "execution_count": 11,
   "metadata": {},
   "outputs": [],
   "source": [
    "def Get_log_likelihood_ratio(dataframe, errors_list):\n",
    "    \"\"\"\n",
    "    dataframe          :   type<pd.dataframe>\n",
    "    error_list         :   type<list> \n",
    "    \n",
    "    Takes a dataframe and the error list,\n",
    "    returns the log likelihood ratio for the upward or downward going hypothesis\n",
    "    \n",
    "    \"\"\"\n",
    "    xlist = dataframe['HitTime'].tolist()\n",
    "    ylist = dataframe['Expected time'].tolist()\n",
    "\n",
    "    Prob_upward_going, Chi2_upward_going, Prob_downward_going, Chi2_downward_going = Chi2_def(xlist, ylist, errors_list)\n",
    "    #Likelihood ratios provide a numerical measure of the effect of a result on probability\n",
    "    #LR= Positive probability  / Negative probability\n",
    "    LLR = log(Prob_upward_going / Prob_downward_going)\n",
    "    \n",
    "    return print ('The log Likelihood ratio value for the upward-going hypothesis is = ' + str(LLR))"
   ]
  },
  {
   "cell_type": "markdown",
   "metadata": {},
   "source": [
    "# Let's check if this works with simulated models first"
   ]
  },
  {
   "cell_type": "code",
   "execution_count": 12,
   "metadata": {},
   "outputs": [
    {
     "data": {
      "text/html": [
       "<div>\n",
       "<style scoped>\n",
       "    .dataframe tbody tr th:only-of-type {\n",
       "        vertical-align: middle;\n",
       "    }\n",
       "\n",
       "    .dataframe tbody tr th {\n",
       "        vertical-align: top;\n",
       "    }\n",
       "\n",
       "    .dataframe thead th {\n",
       "        text-align: right;\n",
       "    }\n",
       "</style>\n",
       "<table border=\"1\" class=\"dataframe\">\n",
       "  <thead>\n",
       "    <tr style=\"text-align: right;\">\n",
       "      <th></th>\n",
       "      <th>Energy</th>\n",
       "      <th>Min Energy</th>\n",
       "      <th>GeV</th>\n",
       "      <th>X</th>\n",
       "      <th>Y</th>\n",
       "      <th>Z</th>\n",
       "      <th>HitTime</th>\n",
       "      <th>View</th>\n",
       "      <th>ID</th>\n",
       "      <th>Plane</th>\n",
       "      <th>Cell</th>\n",
       "      <th>Channel</th>\n",
       "      <th>Digital time</th>\n",
       "      <th>TNS</th>\n",
       "      <th>ADC</th>\n",
       "      <th>PE</th>\n",
       "    </tr>\n",
       "  </thead>\n",
       "  <tbody>\n",
       "    <tr>\n",
       "      <th>0</th>\n",
       "      <td>217.72</td>\n",
       "      <td>0.93</td>\n",
       "      <td>0.01</td>\n",
       "      <td>-178.93</td>\n",
       "      <td>39.67</td>\n",
       "      <td>5160.73</td>\n",
       "      <td>-1.38</td>\n",
       "      <td>0</td>\n",
       "      <td>0</td>\n",
       "      <td>773</td>\n",
       "      <td>146</td>\n",
       "      <td>537662610</td>\n",
       "      <td>14452</td>\n",
       "      <td>224547.84</td>\n",
       "      <td>227</td>\n",
       "      <td>83.39</td>\n",
       "    </tr>\n",
       "    <tr>\n",
       "      <th>1</th>\n",
       "      <td>268.63</td>\n",
       "      <td>1.15</td>\n",
       "      <td>0.01</td>\n",
       "      <td>-177.77</td>\n",
       "      <td>49.22</td>\n",
       "      <td>5154.00</td>\n",
       "      <td>-17.23</td>\n",
       "      <td>1</td>\n",
       "      <td>0</td>\n",
       "      <td>772</td>\n",
       "      <td>204</td>\n",
       "      <td>537661644</td>\n",
       "      <td>14424</td>\n",
       "      <td>224546.39</td>\n",
       "      <td>196</td>\n",
       "      <td>73.53</td>\n",
       "    </tr>\n",
       "    <tr>\n",
       "      <th>2</th>\n",
       "      <td>483.66</td>\n",
       "      <td>2.06</td>\n",
       "      <td>0.02</td>\n",
       "      <td>-196.98</td>\n",
       "      <td>60.35</td>\n",
       "      <td>5147.43</td>\n",
       "      <td>-24.91</td>\n",
       "      <td>0</td>\n",
       "      <td>0</td>\n",
       "      <td>771</td>\n",
       "      <td>142</td>\n",
       "      <td>537660558</td>\n",
       "      <td>14452</td>\n",
       "      <td>224521.97</td>\n",
       "      <td>467</td>\n",
       "      <td>172.91</td>\n",
       "    </tr>\n",
       "    <tr>\n",
       "      <th>3</th>\n",
       "      <td>363.29</td>\n",
       "      <td>1.55</td>\n",
       "      <td>0.02</td>\n",
       "      <td>-172.50</td>\n",
       "      <td>60.35</td>\n",
       "      <td>5147.43</td>\n",
       "      <td>-17.61</td>\n",
       "      <td>0</td>\n",
       "      <td>0</td>\n",
       "      <td>771</td>\n",
       "      <td>148</td>\n",
       "      <td>537660564</td>\n",
       "      <td>14436</td>\n",
       "      <td>224530.77</td>\n",
       "      <td>332</td>\n",
       "      <td>125.53</td>\n",
       "    </tr>\n",
       "    <tr>\n",
       "      <th>4</th>\n",
       "      <td>139.39</td>\n",
       "      <td>0.59</td>\n",
       "      <td>0.01</td>\n",
       "      <td>-200.88</td>\n",
       "      <td>60.35</td>\n",
       "      <td>5147.43</td>\n",
       "      <td>-2.19</td>\n",
       "      <td>0</td>\n",
       "      <td>0</td>\n",
       "      <td>771</td>\n",
       "      <td>141</td>\n",
       "      <td>537660557</td>\n",
       "      <td>14460</td>\n",
       "      <td>224544.44</td>\n",
       "      <td>143</td>\n",
       "      <td>52.13</td>\n",
       "    </tr>\n",
       "  </tbody>\n",
       "</table>\n",
       "</div>"
      ],
      "text/plain": [
       "   Energy  Min Energy   GeV       X      Y        Z  HitTime  View  ID  Plane  \\\n",
       "0  217.72        0.93  0.01 -178.93  39.67  5160.73    -1.38     0   0    773   \n",
       "1  268.63        1.15  0.01 -177.77  49.22  5154.00   -17.23     1   0    772   \n",
       "2  483.66        2.06  0.02 -196.98  60.35  5147.43   -24.91     0   0    771   \n",
       "3  363.29        1.55  0.02 -172.50  60.35  5147.43   -17.61     0   0    771   \n",
       "4  139.39        0.59  0.01 -200.88  60.35  5147.43    -2.19     0   0    771   \n",
       "\n",
       "   Cell    Channel  Digital time        TNS  ADC      PE  \n",
       "0   146  537662610         14452  224547.84  227   83.39  \n",
       "1   204  537661644         14424  224546.39  196   73.53  \n",
       "2   142  537660558         14452  224521.97  467  172.91  \n",
       "3   148  537660564         14436  224530.77  332  125.53  \n",
       "4   141  537660557         14460  224544.44  143   52.13  "
      ]
     },
     "execution_count": 12,
     "metadata": {},
     "output_type": "execute_result"
    }
   ],
   "source": [
    "#SIGNAL\n",
    "col = [x for x in range(0,32) if x % 2 == 1]\n",
    "SIG = pd.read_csv('Desktop/Python/Wimps_2hits_new.txt',usecols=col,delimiter=' ',header=None)\n",
    "SIG.columns=['Energy','Min Energy','GeV','X','Y','Z','HitTime','View','ID','Plane','Cell','Channel','Digital time','TNS','ADC','PE']\n",
    "SIG.head()"
   ]
  },
  {
   "cell_type": "code",
   "execution_count": 13,
   "metadata": {},
   "outputs": [
    {
     "name": "stdout",
     "output_type": "stream",
     "text": [
      "The initial guess for the slope is: 0.9098693570776614\n",
      "The slope value for the Signal hypothesis is = 0.5032503872490471\n"
     ]
    },
    {
     "data": {
      "image/png": "[encoded data removed]",
      "text/plain": [
       "<Figure size 432x288 with 1 Axes>"
      ]
     },
     "metadata": {
      "needs_background": "light"
     },
     "output_type": "display_data"
    },
    {
     "name": "stdout",
     "output_type": "stream",
     "text": [
      "The goodness of the fit for the upward-going hypothesis = 1.5613161476872235\n",
      "The goodness of the fit for the down-going hypothesis = 8.051623824091916\n",
      "The log Likelihood ratio value for the upward-going hypothesis is = 58.80989448516217\n"
     ]
    }
   ],
   "source": [
    "Signal = Choose_view(SIG, True)\n",
    "x_start_s, x_end_s, y_start_s, y_end_s, z_start_s, z_end_s  = Get_variables(Signal)\n",
    "Signal['Expected time']= Calculate_expectation(Signal, x_start_s, x_end_s, y_start_s, y_end_s, z_start_s, z_end_s)\n",
    "errors_list_s = Calculate_expectation_error(Signal, True)\n",
    "\n",
    "%matplotlib inline\n",
    "Make_Plot(Signal, 'Signal' , errors_list_s)\n",
    "Get_log_likelihood_ratio(Signal, errors_list_s)"
   ]
  },
  {
   "cell_type": "code",
   "execution_count": 14,
   "metadata": {},
   "outputs": [],
   "source": [
    "#BACKGROUND\n",
    "col = [x for x in range(0,32) if x % 2 == 1]\n",
    "BKG = pd.read_csv('Desktop/Python/Cosmic_1hits_new.txt',usecols=col,delimiter=' ',header=None)\n",
    "BKG.columns=['Energy','Min Energy','GeV','X','Y','Z','HitTime','View','ID','Plane','Cell','Channel','Digital time','TNS','ADC','PE']\n"
   ]
  },
  {
   "cell_type": "code",
   "execution_count": 15,
   "metadata": {},
   "outputs": [
    {
     "name": "stdout",
     "output_type": "stream",
     "text": [
      "The initial guess for the slope is: -0.9617690760607164\n",
      "The slope value for the Background hypothesis is = -0.4201272291763769\n"
     ]
    },
    {
     "data": {
      "image/png": "[encoded data removed]",
      "text/plain": [
       "<Figure size 432x288 with 1 Axes>"
      ]
     },
     "metadata": {
      "needs_background": "light"
     },
     "output_type": "display_data"
    },
    {
     "name": "stdout",
     "output_type": "stream",
     "text": [
      "The goodness of the fit for the upward-going hypothesis = 14.235160129591831\n",
      "The goodness of the fit for the down-going hypothesis = 3.8734941982321796\n",
      "The log Likelihood ratio value for the upward-going hypothesis is = 0.0\n"
     ]
    }
   ],
   "source": [
    "Background = Choose_view(BKG, True)\n",
    "x_start_b, x_end_b, y_start_b, y_end_b, z_start_b, z_end_b  = Get_variables(Background)\n",
    "Background['Expected time']= Calculate_expectation(Background, x_start_b, x_end_b, y_start_b, y_end_b, z_start_b, z_end_b)\n",
    "errors_list_b = Calculate_expectation_error(Background, True)\n",
    "\n",
    "%matplotlib inline\n",
    "Make_Plot(Background, 'Background' , errors_list_b)\n",
    "Get_log_likelihood_ratio(Background, errors_list_b)"
   ]
  },
  {
   "cell_type": "markdown",
   "metadata": {},
   "source": [
    "# Now we are ready to apply it to our data"
   ]
  },
  {
   "cell_type": "code",
   "execution_count": 16,
   "metadata": {},
   "outputs": [],
   "source": [
    "# Read in the fil\n",
    "col = [x for x in range(1,32) if x % 2 == 1]\n",
    "Data = pd.read_csv('Desktop/Python/DDUPMU_2hits_new.txt',usecols=col,delimiter=' ',header=None,skiprows=1,skipfooter=1,engine='python')\n",
    "Data .columns=['Energy','Min Energy','GeV','X','Y','Z','HitTime','View','ID','Plane','Cell','Channel','Digital time','TNS','ADC','PE']\n"
   ]
  },
  {
   "cell_type": "code",
   "execution_count": 17,
   "metadata": {
    "scrolled": true
   },
   "outputs": [
    {
     "name": "stdout",
     "output_type": "stream",
     "text": [
      "The initial guess for the slope is: 0.6493910884748136\n",
      "The slope value for the selected data hypothesis is = 0.5540769646485197\n"
     ]
    },
    {
     "data": {
      "image/png": "[encoded data removed]",
      "text/plain": [
       "<Figure size 432x288 with 1 Axes>"
      ]
     },
     "metadata": {
      "needs_background": "light"
     },
     "output_type": "display_data"
    },
    {
     "name": "stdout",
     "output_type": "stream",
     "text": [
      "The goodness of the fit for the upward-going hypothesis = 1.5114406190691776\n",
      "The goodness of the fit for the down-going hypothesis = 11.62098183662577\n",
      "The log Likelihood ratio value for the upward-going hypothesis is = 60.58543947769874\n"
     ]
    }
   ],
   "source": [
    "Data_selected = Choose_view(Data, False)\n",
    "x_start_data, x_end_data, y_start_data, y_end_data, z_start_data, z_end_data  = Get_variables(Data_selected)\n",
    "Data_selected['Expected time']= Calculate_expectation(Data_selected, x_start_data, x_end_data, y_start_data, y_end_data, z_start_data, z_end_data)\n",
    "errors_list_data = Calculate_expectation_error(Data_selected, False)\n",
    "\n",
    "%matplotlib inline\n",
    "Make_Plot(Data_selected, 'selected data' , errors_list_data )\n",
    "Get_log_likelihood_ratio(Data_selected, errors_list_data )\n"
   ]
  },
  {
   "cell_type": "markdown",
   "metadata": {},
   "source": [
    "# Are we done? Nope, still a lot of cleaning to do..."
   ]
  },
  {
   "cell_type": "markdown",
   "metadata": {},
   "source": [
    "So this is how we select our data, but there is still a lot of clening to do. What we do next is to apply a series of strict cuts to the data, to be sure that the final sample is as clean as possible.\n",
    "\n",
    "For simplicity I will just show a piece of the C++ code I use in my analysis:"
   ]
  },
  {
   "cell_type": "markdown",
   "metadata": {},
   "source": [
    "<style>\n",
    "div.warn {    \n",
    "    background-color: #fcf2f2;\n",
    "    border-color: #dFb5b4;\n",
    "    border-left: 5px solid #dfb5b4;\n",
    "    padding: 0.5em;\n",
    "    }\n",
    " </style>"
   ]
  },
  {
   "cell_type": "markdown",
   "metadata": {},
   "source": [
    "```c++\n",
    "for(size_t k=0; k<v.size(); k++)\n",
    "        {\n",
    "          const Track &t = v[k];\n",
    "          Islope->Fill(t._slope);\n",
    "          //looking for double tracks in the same slice                                                                                                        \n",
    "          for(size_t i=k+1; i<v.size(); i++)\n",
    "            {\n",
    "              diffSS[i] = v[k]._startz - v[i]._startz;\n",
    "              diffEE[i] = v[k]._endz - v[i]._endz;\n",
    "              if (fabs(diffSS.at(i)) < 50) matchSS++;\n",
    "              if (fabs(diffEE.at(i)) < 50) matchEE++;\n",
    "            }\n",
    "          // Events with more than one match? Remove it!               \n",
    "          if (matchSS> 1 || matchEE > 1)       {pass=false; break;}\n",
    "          // Events not long enough?          Remove it!  \n",
    "          if (t._length < 700)                 {pass=false; break;}\n",
    "          pass_cuts[0]++;\n",
    "          // Events with few hits?            Remove it!   \n",
    "          if (t._nhits < 70)                   {pass=false; break;}\n",
    "          pass_cuts[1]++;                                              \n",
    "          // Events not linear in X view?    Remove it!   \n",
    "          if (t._r2x < 0.99)                   {pass=false; break;}\n",
    "          pass_cuts[7]++;\n",
    "          // Events not linear in Y view?    Remove it!   \n",
    "          if (t._r2y < 0.99)                   {pass=false; break;}\n",
    "          // Events with a bad fit?          Remove it!   \n",
    "          if (t._chi2 > 1.5)                   {pass=false; break;}\n",
    "          pass_cuts[9]++;\n",
    "          // Events with low Prob to go up?   Remove it!  \n",
    "          if (t._llr < 20)                     {pass=false; break;}\n",
    "        }\n",
    "\n",
    "\n",
    "```"
   ]
  },
  {
   "cell_type": "markdown",
   "metadata": {},
   "source": [
    "After this, we are finally left with a clean sample of final events"
   ]
  },
  {
   "cell_type": "markdown",
   "metadata": {},
   "source": [
    "# Final results... Did we discover Dark Matter?"
   ]
  },
  {
   "cell_type": "markdown",
   "metadata": {},
   "source": [
    "At the end we compare the distribution of our data with the simulated signal distribution, that show us how Dark Matter would be distributed in  our detector if it would exist.\n",
    "\n",
    "\n",
    "<span style=\"color:red\" style=\"font-weight:bold\">Did we discover Dark Matter?</span>"
   ]
  },
  {
   "cell_type": "markdown",
   "metadata": {},
   "source": [
    "<img src=\"Desktop/Python/bkg_vs_simulation.png\">"
   ]
  },
  {
   "cell_type": "markdown",
   "metadata": {},
   "source": [
    ":( \n",
    "\n",
    "Not yet,\n",
    " the data don't support the model that we studied"
   ]
  }
 ],
 "metadata": {
  "kernelspec": {
   "display_name": "Python 3",
   "language": "python",
   "name": "python3"
  },
  "language_info": {
   "codemirror_mode": {
    "name": "ipython",
    "version": 3
   },
   "file_extension": ".py",
   "mimetype": "text/x-python",
   "name": "python",
   "nbconvert_exporter": "python",
   "pygments_lexer": "ipython3",
   "version": "3.6.6"
  }
 },
 "nbformat": 4,
 "nbformat_minor": 2
}
