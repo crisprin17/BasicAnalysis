{
 "cells": [
  {
   "cell_type": "code",
   "execution_count": 427,
   "metadata": {},
   "outputs": [],
   "source": [
    "%matplotlib notebook\n",
    "import numpy as np\n",
    "import matplotlib.pyplot as plt\n",
    "import matplotlib.axes as ax\n",
    "import pandas as pd\n",
    "import csv\n",
    "from math import sqrt\n",
    "from scipy import stats\n",
    "pd.options.mode.chained_assignment = None"
   ]
  },
  {
   "cell_type": "code",
   "execution_count": 428,
   "metadata": {},
   "outputs": [],
   "source": [
    "def getErrMC(PE):\n",
    "    return 163551/(1847.39+pow(PE,2.10082))+8.65312;"
   ]
  },
  {
   "cell_type": "code",
   "execution_count": 429,
   "metadata": {},
   "outputs": [],
   "source": [
    "def getErr(PE):\n",
    "    return 165143/(1882.9+pow(PE,2.11447)) + 10.4321;"
   ]
  },
  {
   "cell_type": "code",
   "execution_count": 366,
   "metadata": {},
   "outputs": [
    {
     "data": {
      "text/html": [
       "<div>\n",
       "<style scoped>\n",
       "    .dataframe tbody tr th:only-of-type {\n",
       "        vertical-align: middle;\n",
       "    }\n",
       "\n",
       "    .dataframe tbody tr th {\n",
       "        vertical-align: top;\n",
       "    }\n",
       "\n",
       "    .dataframe thead th {\n",
       "        text-align: right;\n",
       "    }\n",
       "</style>\n",
       "<table border=\"1\" class=\"dataframe\">\n",
       "  <thead>\n",
       "    <tr style=\"text-align: right;\">\n",
       "      <th></th>\n",
       "      <th>PECor</th>\n",
       "      <th>MIP</th>\n",
       "      <th>GeV</th>\n",
       "      <th>X</th>\n",
       "      <th>Y</th>\n",
       "      <th>Z</th>\n",
       "      <th>HitTime</th>\n",
       "      <th>View</th>\n",
       "      <th>ID</th>\n",
       "      <th>Plane</th>\n",
       "      <th>Cell</th>\n",
       "      <th>Channel</th>\n",
       "      <th>TDC</th>\n",
       "      <th>TNS</th>\n",
       "      <th>ADC</th>\n",
       "      <th>PE</th>\n",
       "    </tr>\n",
       "  </thead>\n",
       "  <tbody>\n",
       "    <tr>\n",
       "      <th>0</th>\n",
       "      <td>202.95</td>\n",
       "      <td>0.85</td>\n",
       "      <td>0.01</td>\n",
       "      <td>-529.86</td>\n",
       "      <td>-768.19</td>\n",
       "      <td>4373.90</td>\n",
       "      <td>52.50</td>\n",
       "      <td>0</td>\n",
       "      <td>0</td>\n",
       "      <td>655</td>\n",
       "      <td>58</td>\n",
       "      <td>537541690</td>\n",
       "      <td>1376</td>\n",
       "      <td>20584.47</td>\n",
       "      <td>102</td>\n",
       "      <td>36.14</td>\n",
       "    </tr>\n",
       "    <tr>\n",
       "      <th>1</th>\n",
       "      <td>193.68</td>\n",
       "      <td>0.81</td>\n",
       "      <td>0.01</td>\n",
       "      <td>-533.02</td>\n",
       "      <td>-755.21</td>\n",
       "      <td>4381.79</td>\n",
       "      <td>-9.41</td>\n",
       "      <td>1</td>\n",
       "      <td>0</td>\n",
       "      <td>656</td>\n",
       "      <td>1</td>\n",
       "      <td>537542657</td>\n",
       "      <td>1364</td>\n",
       "      <td>20508.79</td>\n",
       "      <td>94</td>\n",
       "      <td>34.80</td>\n",
       "    </tr>\n",
       "    <tr>\n",
       "      <th>2</th>\n",
       "      <td>143.13</td>\n",
       "      <td>0.60</td>\n",
       "      <td>0.01</td>\n",
       "      <td>-533.01</td>\n",
       "      <td>-751.31</td>\n",
       "      <td>4381.78</td>\n",
       "      <td>49.93</td>\n",
       "      <td>1</td>\n",
       "      <td>0</td>\n",
       "      <td>656</td>\n",
       "      <td>2</td>\n",
       "      <td>537542658</td>\n",
       "      <td>1384</td>\n",
       "      <td>20567.87</td>\n",
       "      <td>72</td>\n",
       "      <td>26.62</td>\n",
       "    </tr>\n",
       "    <tr>\n",
       "      <th>3</th>\n",
       "      <td>133.43</td>\n",
       "      <td>0.56</td>\n",
       "      <td>0.01</td>\n",
       "      <td>-533.01</td>\n",
       "      <td>-747.40</td>\n",
       "      <td>4381.77</td>\n",
       "      <td>65.80</td>\n",
       "      <td>1</td>\n",
       "      <td>0</td>\n",
       "      <td>656</td>\n",
       "      <td>3</td>\n",
       "      <td>537542659</td>\n",
       "      <td>1388</td>\n",
       "      <td>20583.50</td>\n",
       "      <td>67</td>\n",
       "      <td>24.02</td>\n",
       "    </tr>\n",
       "    <tr>\n",
       "      <th>4</th>\n",
       "      <td>387.89</td>\n",
       "      <td>1.63</td>\n",
       "      <td>0.02</td>\n",
       "      <td>-536.45</td>\n",
       "      <td>-740.45</td>\n",
       "      <td>4387.19</td>\n",
       "      <td>77.28</td>\n",
       "      <td>0</td>\n",
       "      <td>0</td>\n",
       "      <td>657</td>\n",
       "      <td>56</td>\n",
       "      <td>537543736</td>\n",
       "      <td>1396</td>\n",
       "      <td>20606.93</td>\n",
       "      <td>206</td>\n",
       "      <td>75.77</td>\n",
       "    </tr>\n",
       "  </tbody>\n",
       "</table>\n",
       "</div>"
      ],
      "text/plain": [
       "    PECor   MIP   GeV       X       Y        Z  HitTime  View  ID  Plane  \\\n",
       "0  202.95  0.85  0.01 -529.86 -768.19  4373.90    52.50     0   0    655   \n",
       "1  193.68  0.81  0.01 -533.02 -755.21  4381.79    -9.41     1   0    656   \n",
       "2  143.13  0.60  0.01 -533.01 -751.31  4381.78    49.93     1   0    656   \n",
       "3  133.43  0.56  0.01 -533.01 -747.40  4381.77    65.80     1   0    656   \n",
       "4  387.89  1.63  0.02 -536.45 -740.45  4387.19    77.28     0   0    657   \n",
       "\n",
       "   Cell    Channel   TDC       TNS  ADC     PE  \n",
       "0    58  537541690  1376  20584.47  102  36.14  \n",
       "1     1  537542657  1364  20508.79   94  34.80  \n",
       "2     2  537542658  1384  20567.87   72  26.62  \n",
       "3     3  537542659  1388  20583.50   67  24.02  \n",
       "4    56  537543736  1396  20606.93  206  75.77  "
      ]
     },
     "execution_count": 366,
     "metadata": {},
     "output_type": "execute_result"
    }
   ],
   "source": [
    "# Read in the fil\n",
    "col = [x for x in range(1,34) if x % 2 == 0]\n",
    "Passed = pd.read_csv('Desktop/Python/Alltracks_hitinfo_demo_new6.txt',usecols=col,delimiter=' ',header=None,skiprows=1,skipfooter=1,engine='python')\n",
    "Passed.columns=['PECor','MIP','GeV','X','Y','Z','HitTime','View','ID','Plane','Cell','Channel','TDC','TNS','ADC','PE']\n",
    "Passed.head()"
   ]
  },
  {
   "cell_type": "code",
   "execution_count": 375,
   "metadata": {},
   "outputs": [
    {
     "data": {
      "text/html": [
       "<div>\n",
       "<style scoped>\n",
       "    .dataframe tbody tr th:only-of-type {\n",
       "        vertical-align: middle;\n",
       "    }\n",
       "\n",
       "    .dataframe tbody tr th {\n",
       "        vertical-align: top;\n",
       "    }\n",
       "\n",
       "    .dataframe thead th {\n",
       "        text-align: right;\n",
       "    }\n",
       "</style>\n",
       "<table border=\"1\" class=\"dataframe\">\n",
       "  <thead>\n",
       "    <tr style=\"text-align: right;\">\n",
       "      <th></th>\n",
       "      <th>PECor</th>\n",
       "      <th>X</th>\n",
       "      <th>Y</th>\n",
       "      <th>Z</th>\n",
       "      <th>HitTime</th>\n",
       "    </tr>\n",
       "  </thead>\n",
       "  <tbody>\n",
       "    <tr>\n",
       "      <th>0</th>\n",
       "      <td>202.95</td>\n",
       "      <td>-529.86</td>\n",
       "      <td>-768.19</td>\n",
       "      <td>4373.90</td>\n",
       "      <td>52.50</td>\n",
       "    </tr>\n",
       "    <tr>\n",
       "      <th>4</th>\n",
       "      <td>387.89</td>\n",
       "      <td>-536.45</td>\n",
       "      <td>-740.45</td>\n",
       "      <td>4387.19</td>\n",
       "      <td>77.28</td>\n",
       "    </tr>\n",
       "    <tr>\n",
       "      <th>7</th>\n",
       "      <td>460.16</td>\n",
       "      <td>-541.59</td>\n",
       "      <td>-711.61</td>\n",
       "      <td>4400.49</td>\n",
       "      <td>17.84</td>\n",
       "    </tr>\n",
       "    <tr>\n",
       "      <th>10</th>\n",
       "      <td>258.75</td>\n",
       "      <td>-548.18</td>\n",
       "      <td>-683.33</td>\n",
       "      <td>4413.79</td>\n",
       "      <td>51.44</td>\n",
       "    </tr>\n",
       "    <tr>\n",
       "      <th>13</th>\n",
       "      <td>65.68</td>\n",
       "      <td>-553.32</td>\n",
       "      <td>-656.63</td>\n",
       "      <td>4427.08</td>\n",
       "      <td>-7.60</td>\n",
       "    </tr>\n",
       "  </tbody>\n",
       "</table>\n",
       "</div>"
      ],
      "text/plain": [
       "     PECor       X       Y        Z  HitTime\n",
       "0   202.95 -529.86 -768.19  4373.90    52.50\n",
       "4   387.89 -536.45 -740.45  4387.19    77.28\n",
       "7   460.16 -541.59 -711.61  4400.49    17.84\n",
       "10  258.75 -548.18 -683.33  4413.79    51.44\n",
       "13   65.68 -553.32 -656.63  4427.08    -7.60"
      ]
     },
     "execution_count": 375,
     "metadata": {},
     "output_type": "execute_result"
    }
   ],
   "source": [
    "XZView = Passed[['PECor','X','Y','Z','HitTime']][Passed['View'] == 0] \n",
    "YZView = Passed[['PECor','X','Y','Z','HitTime']][Passed['View'] == 1] \n",
    "XZView.head()"
   ]
  },
  {
   "cell_type": "markdown",
   "metadata": {},
   "source": [
    "Take the hit that happened at the lowest and highest point in x , and the time of the lowest hit.\n",
    "    "
   ]
  },
  {
   "cell_type": "code",
   "execution_count": 376,
   "metadata": {},
   "outputs": [],
   "source": [
    "x0 = XZView['X'].iloc[-1]\n",
    "x1 = XZView['X'].iloc[0]\n",
    "y0 = XZView['Y'].iloc[-1]\n",
    "y1 = XZView['Y'].iloc[0]\n",
    "z0 = XZView['Z'].iloc[-1]\n",
    "z1 = XZView['Z'].iloc[0]\n",
    "\n",
    "\n",
    "dist = sqrt((x0-x1)**2 + (y0-y1)**2 + (z0-z1)**2 )\n",
    "TOF = dist/29.97\n",
    "TOFr = TOF /(x1-x0)"
   ]
  },
  {
   "cell_type": "markdown",
   "metadata": {},
   "source": [
    "Calculate expected and observed time"
   ]
  },
  {
   "cell_type": "code",
   "execution_count": 377,
   "metadata": {},
   "outputs": [],
   "source": [
    "XZView['Texp']= XZView['X'].apply(lambda x : TOFr*(x - x0))\n",
    "XZView['Texp_err']=XZView['PECor'].apply(lambda x : getErr(x))\n",
    "errors =  XZView['Texp_err'].tolist()"
   ]
  },
  {
   "cell_type": "code",
   "execution_count": 378,
   "metadata": {},
   "outputs": [
    {
     "data": {
      "image/png": "[encoded data removed]",
      "text/plain": [
       "<Figure size 432x288 with 1 Axes>"
      ]
     },
     "metadata": {
      "needs_background": "light"
     },
     "output_type": "display_data"
    }
   ],
   "source": [
    "%matplotlib inline\n",
    "fig = plt.figure()\n",
    "ax = fig.add_subplot(111)\n",
    "# Calculate a linear least-squares regression for two sets of measurements.\n",
    "slope, intercept, r_value, p_value, std_err = stats.linregress(XZView['HitTime'],XZView['Texp'])\n",
    "line = slope*XZView['HitTime']+intercept\n",
    "\n",
    "plt.xlabel(\"T_obs (ns)\")\n",
    "plt.ylabel(\"T_exp (ns)\")\n",
    "plt.title(\"Observed vs Expected time\")\n",
    "\n",
    "plt.errorbar(XZView['HitTime'], XZView['Texp'], yerr=errors,fmt='o', marker='s',mfc='red',\n",
    "         mec='green', ms=2, mew=4)\n",
    "plt.plot(XZView['HitTime'], line, label=\"fit\");\n",
    "plt.show() "
   ]
  },
  {
   "cell_type": "code",
   "execution_count": 379,
   "metadata": {},
   "outputs": [
    {
     "name": "stdout",
     "output_type": "stream",
     "text": [
      "0.027354578794125846 0.37489175360213356\n"
     ]
    }
   ],
   "source": [
    "print ( slope,p_value)"
   ]
  },
  {
   "cell_type": "markdown",
   "metadata": {},
   "source": [
    "Let's do the same in the y view"
   ]
  },
  {
   "cell_type": "code",
   "execution_count": 267,
   "metadata": {},
   "outputs": [],
   "source": [
    "x0 = YZView['X'].iloc[-1]\n",
    "x1 = YZView['X'].iloc[0]\n",
    "y0 = YZView['Y'].iloc[-1]\n",
    "y1 = YZView['Y'].iloc[0]\n",
    "z0 = YZView['Z'].iloc[-1]\n",
    "z1 = YZView['Z'].iloc[0]\n",
    "\n",
    "\n",
    "dist = sqrt((x0-x1)**2 + (y0-y1)**2 + (z0-z1)**2 )\n",
    "TOF = dist/29.97\n",
    "TOFr = TOF /(x1-x0)"
   ]
  },
  {
   "cell_type": "code",
   "execution_count": 380,
   "metadata": {},
   "outputs": [],
   "source": [
    "YZView['Texp']     = YZView['X'].apply(lambda x : TOFr*(x - x0))\n",
    "YZView['Texp_err'] = YZView['PECor'].apply(lambda x : getErr(x))\n",
    "errors =  YZView['Texp_err'].tolist()"
   ]
  },
  {
   "cell_type": "code",
   "execution_count": 381,
   "metadata": {},
   "outputs": [
    {
     "data": {
      "image/png": "[encoded data removed]",
      "text/plain": [
       "<Figure size 432x288 with 1 Axes>"
      ]
     },
     "metadata": {
      "needs_background": "light"
     },
     "output_type": "display_data"
    }
   ],
   "source": [
    "%matplotlib inline\n",
    "fig = plt.figure()\n",
    "ax = fig.add_subplot(111)\n",
    "# Calculate a linear least-squares regression for two sets of measurements.\n",
    "slope, intercept, r_value, p_value, std_err = stats.linregress(YZView['HitTime'],YZView['Texp'])\n",
    "line = slope*YZView['HitTime']+intercept\n",
    "\n",
    "plt.xlabel(\"T_obs (ns)\")\n",
    "plt.ylabel(\"T_exp (ns)\")\n",
    "plt.title(\"Observed vs Expected time\")\n",
    "\n",
    "plt.errorbar(YZView['HitTime'], YZView['Texp'], yerr=errors,fmt='o', marker='s',mfc='red',\n",
    "         mec='green', ms=2, mew=4)\n",
    "plt.plot(YZView['HitTime'], line, label=\"fit\");\n",
    "plt.show() "
   ]
  },
  {
   "cell_type": "code",
   "execution_count": 382,
   "metadata": {},
   "outputs": [
    {
     "name": "stdout",
     "output_type": "stream",
     "text": [
      "0.0360657623287318 0.004354088608773065\n"
     ]
    }
   ],
   "source": [
    "print(slope, p_value)"
   ]
  },
  {
   "cell_type": "markdown",
   "metadata": {},
   "source": [
    "Lets do the same thing with cosmic"
   ]
  },
  {
   "cell_type": "code",
   "execution_count": 424,
   "metadata": {},
   "outputs": [
    {
     "data": {
      "text/html": [
       "<div>\n",
       "<style scoped>\n",
       "    .dataframe tbody tr th:only-of-type {\n",
       "        vertical-align: middle;\n",
       "    }\n",
       "\n",
       "    .dataframe tbody tr th {\n",
       "        vertical-align: top;\n",
       "    }\n",
       "\n",
       "    .dataframe thead th {\n",
       "        text-align: right;\n",
       "    }\n",
       "</style>\n",
       "<table border=\"1\" class=\"dataframe\">\n",
       "  <thead>\n",
       "    <tr style=\"text-align: right;\">\n",
       "      <th></th>\n",
       "      <th>PECor</th>\n",
       "      <th>MIP</th>\n",
       "      <th>GeV</th>\n",
       "      <th>X</th>\n",
       "      <th>Y</th>\n",
       "      <th>Z</th>\n",
       "      <th>HitTime</th>\n",
       "      <th>View</th>\n",
       "      <th>ID</th>\n",
       "      <th>Plane</th>\n",
       "      <th>Cell</th>\n",
       "      <th>Channel</th>\n",
       "      <th>TDC</th>\n",
       "      <th>TNS</th>\n",
       "      <th>ADC</th>\n",
       "      <th>PE</th>\n",
       "    </tr>\n",
       "  </thead>\n",
       "  <tbody>\n",
       "    <tr>\n",
       "      <th>0</th>\n",
       "      <td>159.96</td>\n",
       "      <td>0.68</td>\n",
       "      <td>0.01</td>\n",
       "      <td>243.50</td>\n",
       "      <td>745.11</td>\n",
       "      <td>5361.14</td>\n",
       "      <td>-4.69</td>\n",
       "      <td>0</td>\n",
       "      <td>0</td>\n",
       "      <td>803</td>\n",
       "      <td>253</td>\n",
       "      <td>537693437</td>\n",
       "      <td>104</td>\n",
       "      <td>729.98</td>\n",
       "      <td>347</td>\n",
       "      <td>132.04</td>\n",
       "    </tr>\n",
       "    <tr>\n",
       "      <th>1</th>\n",
       "      <td>123.41</td>\n",
       "      <td>0.53</td>\n",
       "      <td>0.01</td>\n",
       "      <td>287.44</td>\n",
       "      <td>745.11</td>\n",
       "      <td>5361.14</td>\n",
       "      <td>-2.87</td>\n",
       "      <td>0</td>\n",
       "      <td>0</td>\n",
       "      <td>803</td>\n",
       "      <td>264</td>\n",
       "      <td>537693448</td>\n",
       "      <td>124</td>\n",
       "      <td>726.56</td>\n",
       "      <td>352</td>\n",
       "      <td>129.80</td>\n",
       "    </tr>\n",
       "    <tr>\n",
       "      <th>2</th>\n",
       "      <td>118.34</td>\n",
       "      <td>0.50</td>\n",
       "      <td>0.01</td>\n",
       "      <td>267.93</td>\n",
       "      <td>745.11</td>\n",
       "      <td>5361.14</td>\n",
       "      <td>-1.66</td>\n",
       "      <td>0</td>\n",
       "      <td>0</td>\n",
       "      <td>803</td>\n",
       "      <td>259</td>\n",
       "      <td>537693443</td>\n",
       "      <td>120</td>\n",
       "      <td>726.56</td>\n",
       "      <td>296</td>\n",
       "      <td>108.74</td>\n",
       "    </tr>\n",
       "    <tr>\n",
       "      <th>3</th>\n",
       "      <td>170.62</td>\n",
       "      <td>0.73</td>\n",
       "      <td>0.01</td>\n",
       "      <td>264.03</td>\n",
       "      <td>745.11</td>\n",
       "      <td>5361.14</td>\n",
       "      <td>2.99</td>\n",
       "      <td>0</td>\n",
       "      <td>0</td>\n",
       "      <td>803</td>\n",
       "      <td>258</td>\n",
       "      <td>537693442</td>\n",
       "      <td>116</td>\n",
       "      <td>730.96</td>\n",
       "      <td>422</td>\n",
       "      <td>158.95</td>\n",
       "    </tr>\n",
       "    <tr>\n",
       "      <th>4</th>\n",
       "      <td>113.07</td>\n",
       "      <td>0.48</td>\n",
       "      <td>0.01</td>\n",
       "      <td>260.13</td>\n",
       "      <td>745.11</td>\n",
       "      <td>5361.14</td>\n",
       "      <td>4.22</td>\n",
       "      <td>0</td>\n",
       "      <td>0</td>\n",
       "      <td>803</td>\n",
       "      <td>257</td>\n",
       "      <td>537693441</td>\n",
       "      <td>128</td>\n",
       "      <td>731.93</td>\n",
       "      <td>291</td>\n",
       "      <td>106.46</td>\n",
       "    </tr>\n",
       "  </tbody>\n",
       "</table>\n",
       "</div>"
      ],
      "text/plain": [
       "    PECor   MIP   GeV       X       Y        Z  HitTime  View  ID  Plane  \\\n",
       "0  159.96  0.68  0.01  243.50  745.11  5361.14    -4.69     0   0    803   \n",
       "1  123.41  0.53  0.01  287.44  745.11  5361.14    -2.87     0   0    803   \n",
       "2  118.34  0.50  0.01  267.93  745.11  5361.14    -1.66     0   0    803   \n",
       "3  170.62  0.73  0.01  264.03  745.11  5361.14     2.99     0   0    803   \n",
       "4  113.07  0.48  0.01  260.13  745.11  5361.14     4.22     0   0    803   \n",
       "\n",
       "   Cell    Channel  TDC     TNS  ADC      PE  \n",
       "0   253  537693437  104  729.98  347  132.04  \n",
       "1   264  537693448  124  726.56  352  129.80  \n",
       "2   259  537693443  120  726.56  296  108.74  \n",
       "3   258  537693442  116  730.96  422  158.95  \n",
       "4   257  537693441  128  731.93  291  106.46  "
      ]
     },
     "execution_count": 424,
     "metadata": {},
     "output_type": "execute_result"
    }
   ],
   "source": [
    "col = [x for x in range(0,32) if x % 2 == 1]\n",
    "BKG = pd.read_csv('Desktop/Python/cosmic_info_track_3.txt',usecols=col,delimiter=' ',header=None)\n",
    "BKG.columns=['PECor','MIP','GeV','X','Y','Z','HitTime','View','ID','Plane','Cell','Channel','TDC','TNS','ADC','PE']\n",
    "BKG.head()"
   ]
  },
  {
   "cell_type": "code",
   "execution_count": 425,
   "metadata": {},
   "outputs": [
    {
     "data": {
      "text/html": [
       "<div>\n",
       "<style scoped>\n",
       "    .dataframe tbody tr th:only-of-type {\n",
       "        vertical-align: middle;\n",
       "    }\n",
       "\n",
       "    .dataframe tbody tr th {\n",
       "        vertical-align: top;\n",
       "    }\n",
       "\n",
       "    .dataframe thead th {\n",
       "        text-align: right;\n",
       "    }\n",
       "</style>\n",
       "<table border=\"1\" class=\"dataframe\">\n",
       "  <thead>\n",
       "    <tr style=\"text-align: right;\">\n",
       "      <th></th>\n",
       "      <th>PECor</th>\n",
       "      <th>X</th>\n",
       "      <th>Y</th>\n",
       "      <th>Z</th>\n",
       "      <th>HitTime</th>\n",
       "    </tr>\n",
       "  </thead>\n",
       "  <tbody>\n",
       "    <tr>\n",
       "      <th>0</th>\n",
       "      <td>159.96</td>\n",
       "      <td>243.50</td>\n",
       "      <td>745.11</td>\n",
       "      <td>5361.14</td>\n",
       "      <td>-4.69</td>\n",
       "    </tr>\n",
       "    <tr>\n",
       "      <th>1</th>\n",
       "      <td>123.41</td>\n",
       "      <td>287.44</td>\n",
       "      <td>745.11</td>\n",
       "      <td>5361.14</td>\n",
       "      <td>-2.87</td>\n",
       "    </tr>\n",
       "    <tr>\n",
       "      <th>2</th>\n",
       "      <td>118.34</td>\n",
       "      <td>267.93</td>\n",
       "      <td>745.11</td>\n",
       "      <td>5361.14</td>\n",
       "      <td>-1.66</td>\n",
       "    </tr>\n",
       "    <tr>\n",
       "      <th>3</th>\n",
       "      <td>170.62</td>\n",
       "      <td>264.03</td>\n",
       "      <td>745.11</td>\n",
       "      <td>5361.14</td>\n",
       "      <td>2.99</td>\n",
       "    </tr>\n",
       "    <tr>\n",
       "      <th>4</th>\n",
       "      <td>113.07</td>\n",
       "      <td>260.13</td>\n",
       "      <td>745.11</td>\n",
       "      <td>5361.14</td>\n",
       "      <td>4.22</td>\n",
       "    </tr>\n",
       "  </tbody>\n",
       "</table>\n",
       "</div>"
      ],
      "text/plain": [
       "    PECor       X       Y        Z  HitTime\n",
       "0  159.96  243.50  745.11  5361.14    -4.69\n",
       "1  123.41  287.44  745.11  5361.14    -2.87\n",
       "2  118.34  267.93  745.11  5361.14    -1.66\n",
       "3  170.62  264.03  745.11  5361.14     2.99\n",
       "4  113.07  260.13  745.11  5361.14     4.22"
      ]
     },
     "execution_count": 425,
     "metadata": {},
     "output_type": "execute_result"
    }
   ],
   "source": [
    "XZViewBKG = BKG[['PECor','X','Y','Z','HitTime']][BKG['View'] == 0] \n",
    "YZViewBKG = BKG[['PECor','X','Y','Z','HitTime']][BKG['View'] == 1] \n",
    "XZViewBKG.head()"
   ]
  },
  {
   "cell_type": "code",
   "execution_count": 389,
   "metadata": {},
   "outputs": [],
   "source": [
    "x0 = XZViewBKG['X'].iloc[0]\n",
    "x1 = XZViewBKG['X'].iloc[-1]\n",
    "y0 = XZViewBKG['Y'].iloc[0]\n",
    "y1 = XZViewBKG['Y'].iloc[-1]\n",
    "z0 = XZViewBKG['Z'].iloc[0]\n",
    "z1 = XZViewBKG['Z'].iloc[-1]\n",
    "\n",
    "\n",
    "dist = sqrt((x0-x1)**2 + (y0-y1)**2 + (z0-z1)**2 )\n",
    "TOF = dist/29.97\n",
    "TOFr = TOF /(x1-x0)"
   ]
  },
  {
   "cell_type": "code",
   "execution_count": 390,
   "metadata": {},
   "outputs": [],
   "source": [
    "XZViewBKG['Texp']     = XZViewBKG['X'].apply(lambda x : TOFr*(x - x0))\n",
    "XZViewBKG['Texp_err'] = XZViewBKG['PECor'].apply(lambda x : getErrMC(x))\n",
    "errors =  XZViewBKG['Texp_err'].tolist()"
   ]
  },
  {
   "cell_type": "code",
   "execution_count": 391,
   "metadata": {},
   "outputs": [
    {
     "data": {
      "image/png": "[encoded data removed]",
      "text/plain": [
       "<Figure size 432x288 with 1 Axes>"
      ]
     },
     "metadata": {
      "needs_background": "light"
     },
     "output_type": "display_data"
    }
   ],
   "source": [
    "%matplotlib inline\n",
    "fig = plt.figure()\n",
    "ax = fig.add_subplot(111)\n",
    "# Calculate a linear least-squares regression for two sets of measurements.\n",
    "slope, intercept, r_value, p_value, std_err = stats.linregress(XZViewBKG['HitTime'],XZViewBKG['Texp'])\n",
    "line = slope*XZViewBKG['HitTime']+intercept\n",
    "\n",
    "plt.xlabel(\"T_obs (ns)\")\n",
    "plt.ylabel(\"T_exp (ns)\")\n",
    "plt.title(\"Observed vs Expected time\")\n",
    "\n",
    "plt.errorbar(XZViewBKG['HitTime'], XZViewBKG['Texp'], yerr=errors,fmt='o', marker='s',mfc='red',\n",
    "         mec='green', ms=2, mew=4)\n",
    "plt.plot(XZViewBKG['HitTime'], line, label=\"fit\");\n",
    "plt.show() "
   ]
  },
  {
   "cell_type": "code",
   "execution_count": 392,
   "metadata": {},
   "outputs": [
    {
     "data": {
      "text/plain": [
       "-0.0899271579637757"
      ]
     },
     "execution_count": 392,
     "metadata": {},
     "output_type": "execute_result"
    }
   ],
   "source": [
    "slope"
   ]
  },
  {
   "cell_type": "code",
   "execution_count": 393,
   "metadata": {},
   "outputs": [
    {
     "data": {
      "text/plain": [
       "5.9564522602755546e-05"
      ]
     },
     "execution_count": 393,
     "metadata": {},
     "output_type": "execute_result"
    }
   ],
   "source": [
    "p_value"
   ]
  },
  {
   "cell_type": "code",
   "execution_count": 417,
   "metadata": {},
   "outputs": [
    {
     "data": {
      "text/plain": [
       "(87, 16)"
      ]
     },
     "execution_count": 417,
     "metadata": {},
     "output_type": "execute_result"
    }
   ],
   "source": [
    "col = [x for x in range(0,32) if x % 2 == 1]\n",
    "SIG = pd.read_csv('Desktop/Python/wimsim_hit5.txt',usecols=col,delimiter=' ',header=None)\n",
    "SIG.columns=['PECor','MIP','GeV','X','Y','Z','HitTime','View','ID','Plane','Cell','Channel','TDC','TNS','ADC','PE']\n",
    "SIG.shape"
   ]
  },
  {
   "cell_type": "code",
   "execution_count": 418,
   "metadata": {},
   "outputs": [
    {
     "data": {
      "text/plain": [
       "(34, 5)"
      ]
     },
     "execution_count": 418,
     "metadata": {},
     "output_type": "execute_result"
    }
   ],
   "source": [
    "XZViewSIG = SIG[['PECor','X','Y','Z','HitTime']][SIG['View'] == 0] \n",
    "YZViewSIG = SIG[['PECor','X','Y','Z','HitTime']][SIG['View'] == 1] \n",
    "YZViewSIG.shape"
   ]
  },
  {
   "cell_type": "code",
   "execution_count": 419,
   "metadata": {},
   "outputs": [],
   "source": [
    "x0 = YZViewSIG['X'].iloc[0]\n",
    "x1 = YZViewSIG['X'].iloc[-1]\n",
    "y0 = YZViewSIG['Y'].iloc[0]\n",
    "y1 = YZViewSIG['Y'].iloc[-1]\n",
    "z0 = YZViewSIG['Z'].iloc[0]\n",
    "z1 = YZViewSIG['Z'].iloc[-1]\n",
    "\n",
    "\n",
    "dist = sqrt((x0-x1)**2 + (y0-y1)**2 + (z0-z1)**2 )\n",
    "TOF = dist/29.97\n",
    "TOFr = TOF /(x1-x0)"
   ]
  },
  {
   "cell_type": "code",
   "execution_count": 420,
   "metadata": {},
   "outputs": [],
   "source": [
    "YZViewSIG['Texp']     = YZViewSIG['X'].apply(lambda x : TOFr*(x - x0))\n",
    "YZViewSIG['Texp_err'] = YZViewSIG['PECor'].apply(lambda x : getErrMC(x))\n",
    "errors =  YZViewSIG['Texp_err'].tolist()"
   ]
  },
  {
   "cell_type": "code",
   "execution_count": 421,
   "metadata": {},
   "outputs": [
    {
     "data": {
      "image/png": "[encoded data removed]",
      "text/plain": [
       "<Figure size 432x288 with 1 Axes>"
      ]
     },
     "metadata": {
      "needs_background": "light"
     },
     "output_type": "display_data"
    }
   ],
   "source": [
    "%matplotlib inline\n",
    "fig = plt.figure()\n",
    "ax = fig.add_subplot(111)\n",
    "# Calculate a linear least-squares regression for two sets of measurements.\n",
    "slope, intercept, r_value, p_value, std_err = stats.linregress(YZViewSIG['HitTime'],YZViewSIG['Texp'])\n",
    "line = slope*YZViewSIG['HitTime']+intercept\n",
    "\n",
    "plt.xlabel(\"T_obs (ns)\")\n",
    "plt.ylabel(\"T_exp (ns)\")\n",
    "plt.title(\"Observed vs Expected time\")\n",
    "\n",
    "plt.errorbar(YZViewSIG['HitTime'], YZViewSIG['Texp'], yerr=errors,fmt='o', marker='s',mfc='red',\n",
    "         mec='green', ms=2, mew=4)\n",
    "plt.plot(YZViewSIG['HitTime'], line, label=\"fit\");\n",
    "plt.show() "
   ]
  },
  {
   "cell_type": "code",
   "execution_count": 422,
   "metadata": {},
   "outputs": [
    {
     "data": {
      "text/plain": [
       "0.0499152957106836"
      ]
     },
     "execution_count": 422,
     "metadata": {},
     "output_type": "execute_result"
    }
   ],
   "source": [
    "slope"
   ]
  },
  {
   "cell_type": "code",
   "execution_count": 423,
   "metadata": {},
   "outputs": [
    {
     "data": {
      "text/plain": [
       "0.012787688826438588"
      ]
     },
     "execution_count": 423,
     "metadata": {},
     "output_type": "execute_result"
    }
   ],
   "source": [
    "p_value"
   ]
  },
  {
   "cell_type": "code",
   "execution_count": null,
   "metadata": {},
   "outputs": [],
   "source": []
  }
 ],
 "metadata": {
  "kernelspec": {
   "display_name": "Python 3",
   "language": "python",
   "name": "python3"
  },
  "language_info": {
   "codemirror_mode": {
    "name": "ipython",
    "version": 3
   },
   "file_extension": ".py",
   "mimetype": "text/x-python",
   "name": "python",
   "nbconvert_exporter": "python",
   "pygments_lexer": "ipython3",
   "version": "3.7.0"
  }
 },
 "nbformat": 4,
 "nbformat_minor": 2
}
